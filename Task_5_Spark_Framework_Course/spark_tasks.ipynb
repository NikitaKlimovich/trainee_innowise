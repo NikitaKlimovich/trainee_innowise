{
 "cells": [
  {
   "cell_type": "code",
   "execution_count": 1,
   "metadata": {},
   "outputs": [],
   "source": [
    "from pyspark.context import SparkContext\n",
    "from pyspark.sql import SparkSession\n",
    "import psycopg2\n",
    "import configparser\n",
    "import pandas as pd\n",
    "import findspark\n",
    "findspark.init()\n",
    "import warnings\n",
    "warnings.filterwarnings(\"ignore\")"
   ]
  },
  {
   "cell_type": "code",
   "execution_count": 2,
   "metadata": {},
   "outputs": [],
   "source": [
    "config = configparser.ConfigParser()\n",
    "config.read(\"config.ini\")\n",
    "config = config['postgresql']\n",
    "conn = psycopg2.connect(\n",
    "    host=config['db_host'],\n",
    "    port=config['db_port'],\n",
    "    dbname=config['db_name'],\n",
    "    user=config['db_user'],\n",
    "    password=config['db_password'])"
   ]
  },
  {
   "cell_type": "code",
   "execution_count": 3,
   "metadata": {},
   "outputs": [],
   "source": [
    "query = \"select tablename FROM pg_catalog.pg_tables where schemaname = 'public' and tablename not like 'payment_%';\"\n",
    "table_names = pd.read_sql_query(query, conn)['tablename'].to_list()\n",
    "spark = SparkSession(SparkContext.getOrCreate())\n",
    "table_dict = dict()\n",
    "for table_name in table_names:\n",
    "    query = f\"select * from {table_name}\"\n",
    "    df_pandas = pd.read_sql_query(query, conn)\n",
    "    df_pandas_dropna =  df_pandas.dropna(axis='columns', how='all')\n",
    "    if table_name == 'staff':\n",
    "        df_pandas_dropna = df_pandas_dropna.drop('picture',axis=1)\n",
    "    table_dict[table_name] = spark.createDataFrame(df_pandas_dropna)"
   ]
  },
  {
   "cell_type": "code",
   "execution_count": 4,
   "metadata": {},
   "outputs": [],
   "source": [
    "df_film = table_dict['film']\n",
    "df_film_category = table_dict['film_category']\n",
    "df_category = table_dict['category']\n",
    "df_film_actor = table_dict['film_actor']\n",
    "df_actor = table_dict['actor']\n",
    "df_inventory = table_dict['inventory']\n",
    "df_customer = table_dict['customer']\n",
    "df_address = table_dict['address']\n",
    "df_city = table_dict['city']\n",
    "df_rental = table_dict['rental']"
   ]
  },
  {
   "cell_type": "code",
   "execution_count": 5,
   "metadata": {},
   "outputs": [],
   "source": [
    "from pyspark.sql.functions import col, desc, sum, dense_rank, lit\n",
    "from pyspark.sql import Window"
   ]
  },
  {
   "cell_type": "code",
   "execution_count": 16,
   "metadata": {},
   "outputs": [],
   "source": [
    "spark.conf.set(\"spark.sql.shuffle.partitions\",2)\n",
    "spark.conf.set(\"spark.sql.inMemoryColumnarStorage.compressed\", True)\n",
    "spark.conf.set(\"spark.sql.inMemoryColumnarStorage.batchSize\",10000)"
   ]
  },
  {
   "cell_type": "code",
   "execution_count": 29,
   "metadata": {},
   "outputs": [
    {
     "data": {
      "text/plain": [
       "[Row(name='Sports', count=74),\n",
       " Row(name='Foreign', count=73),\n",
       " Row(name='Family', count=69),\n",
       " Row(name='Documentary', count=68),\n",
       " Row(name='Animation', count=66),\n",
       " Row(name='Action', count=64),\n",
       " Row(name='New', count=63),\n",
       " Row(name='Drama', count=62),\n",
       " Row(name='Games', count=61),\n",
       " Row(name='Sci-Fi', count=61),\n",
       " Row(name='Children', count=60),\n",
       " Row(name='Comedy', count=58),\n",
       " Row(name='Classics', count=57),\n",
       " Row(name='Travel', count=57),\n",
       " Row(name='Horror', count=56),\n",
       " Row(name='Music', count=51)]"
      ]
     },
     "execution_count": 29,
     "metadata": {},
     "output_type": "execute_result"
    }
   ],
   "source": [
    "#Task1. Вывести количество фильмов в каждой категории, отсортировать по убыванию.\n",
    "\n",
    "df_film.join(df_film_category,'film_id').groupby('category_id').count().join(df_category,'category_id').select(['name','count']).sort(desc(\"count\")).collect()"
   ]
  },
  {
   "cell_type": "code",
   "execution_count": 32,
   "metadata": {},
   "outputs": [
    {
     "name": "stdout",
     "output_type": "stream",
     "text": [
      "+----------+---------+-----------+\n",
      "|first_name|last_name|sum_ren_dur|\n",
      "+----------+---------+-----------+\n",
      "|     SUSAN|    DAVIS|        242|\n",
      "|      GINA|DEGENERES|        209|\n",
      "|    WALTER|     TORN|        201|\n",
      "|      MARY|   KEITEL|        192|\n",
      "|   MATTHEW|   CARREY|        190|\n",
      "|    ANGELA|   HUDSON|        183|\n",
      "|   GROUCHO|    DUNST|        183|\n",
      "|    SANDRA|   KILMER|        181|\n",
      "|     HENRY|    BERRY|        180|\n",
      "|       UMA|     WOOD|        179|\n",
      "+----------+---------+-----------+\n",
      "\n"
     ]
    }
   ],
   "source": [
    "#Task2. Вывести 10 актеров, чьи фильмы большего всего арендовали, отсортировать по убыванию.\n",
    "\n",
    "df_film.join(df_film_actor,'film_id').join(df_actor,'actor_id').groupby(['first_name','last_name']).agg(sum('rental_duration').alias('sum_ren_dur')).sort(desc('sum_ren_dur')).limit(10).show()"
   ]
  },
  {
   "cell_type": "code",
   "execution_count": 33,
   "metadata": {},
   "outputs": [
    {
     "name": "stdout",
     "output_type": "stream",
     "text": [
      "+------+------------------+\n",
      "|  name|          sum_cost|\n",
      "+------+------------------+\n",
      "|Sports|1509.2600000000004|\n",
      "+------+------------------+\n",
      "\n"
     ]
    }
   ],
   "source": [
    "#Task3. Вывести категорию фильмов, на которую потратили больше всего денег.\n",
    "df_film.join(df_film_category,'film_id').join(df_category,'category_id').groupby('name').agg(sum('replacement_cost').alias('sum_cost')).sort(desc('sum_cost')).limit(1).show()"
   ]
  },
  {
   "cell_type": "code",
   "execution_count": 34,
   "metadata": {},
   "outputs": [
    {
     "name": "stdout",
     "output_type": "stream",
     "text": [
      "+--------------------+\n",
      "|               title|\n",
      "+--------------------+\n",
      "|      ALICE FANTASIA|\n",
      "|         APOLLO TEEN|\n",
      "|      ARGONAUTS TOWN|\n",
      "|       ARK RIDGEMONT|\n",
      "|ARSENIC INDEPENDENCE|\n",
      "|   BOONDOCK BALLROOM|\n",
      "|       BUTCH PANTHER|\n",
      "|       CATCH AMISTAD|\n",
      "| CHINATOWN GLADIATOR|\n",
      "|      CHOCOLATE DUCK|\n",
      "|COMMANDMENTS EXPRESS|\n",
      "|    CROSSING DIVORCE|\n",
      "|     CROWDS TELEMARK|\n",
      "|    CRYSTAL BREAKING|\n",
      "|          DAZED PUNK|\n",
      "|DELIVERANCE MULHO...|\n",
      "|   FIREHOUSE VIETNAM|\n",
      "|       FLOATS GARDEN|\n",
      "|FRANKENSTEIN STRA...|\n",
      "|  GLADIATOR WESTWARD|\n",
      "+--------------------+\n",
      "only showing top 20 rows\n",
      "\n"
     ]
    }
   ],
   "source": [
    "#Task4. Вывести названия фильмов, которых нет в inventory.\n",
    "df_film.join(df_inventory,'film_id','leftanti').select('title').sort('title').show()"
   ]
  },
  {
   "cell_type": "code",
   "execution_count": 35,
   "metadata": {},
   "outputs": [
    {
     "name": "stdout",
     "output_type": "stream",
     "text": [
      "+----------+---------+-----+\n",
      "|first_name|last_name|count|\n",
      "+----------+---------+-----+\n",
      "|     HELEN|   VOIGHT|    7|\n",
      "|     SUSAN|    DAVIS|    6|\n",
      "|    WHOOPI|     HURT|    5|\n",
      "|     KEVIN|  GARLAND|    5|\n",
      "|      MARY|    TANDY|    5|\n",
      "|     RALPH|     CRUZ|    5|\n",
      "+----------+---------+-----+\n",
      "\n"
     ]
    }
   ],
   "source": [
    "#Task5. Вывести топ 3 актеров, которые больше всего появлялись в фильмах в категории “Children”. \n",
    "#       Если у нескольких актеров одинаковое кол-во фильмов, вывести всех\n",
    "df_film.join(df_film_category,'film_id').join(df_category.where(df_category['name']=='Children'),'category_id').join(df_film_actor,'film_id').join(df_actor,'actor_id').groupby(['first_name','last_name']).count() \\\n",
    ".withColumn('dns_rnk',dense_rank().over(Window.orderBy(desc('count')))).where(col('dns_rnk')<=3).select(['first_name','last_name','count']).show()"
   ]
  },
  {
   "cell_type": "code",
   "execution_count": 67,
   "metadata": {},
   "outputs": [
    {
     "name": "stdout",
     "output_type": "stream",
     "text": [
      "+-----------+------+-----+\n",
      "|       city|active|count|\n",
      "+-----------+------+-----+\n",
      "|     London|     1|    2|\n",
      "|     Aurora|     1|    2|\n",
      "|     Moscow|     1|    1|\n",
      "|       Ondo|     1|    1|\n",
      "|    Fontana|     1|    1|\n",
      "|    Sullana|     1|    1|\n",
      "|    Asuncin|     1|    1|\n",
      "| Kragujevac|     1|    1|\n",
      "| Greensboro|     1|    1|\n",
      "|   Monclova|     1|    1|\n",
      "|      Tanza|     1|    1|\n",
      "|  Florencia|     1|    1|\n",
      "|     al-Ayn|     1|    1|\n",
      "|   Boksburg|     1|    1|\n",
      "|     Salala|     1|    1|\n",
      "|Antofagasta|     1|    1|\n",
      "|       Fuyu|     1|    1|\n",
      "|Saint Louis|     1|    1|\n",
      "|  Syktyvkar|     1|    1|\n",
      "|  al-Manama|     1|    1|\n",
      "+-----------+------+-----+\n",
      "only showing top 20 rows\n",
      "\n"
     ]
    }
   ],
   "source": [
    "#Task6. Вывести города с количеством активных и неактивных клиентов (активный — customer.active = 1). \n",
    "#       Отсортировать по количеству неактивных клиентов по убыванию.\n",
    "df_customer.join(df_address,'address_id').join(df_city,'city_id').groupby(['city','active']).count().sort(desc('active'),desc('count')).show()"
   ]
  },
  {
   "cell_type": "code",
   "execution_count": 28,
   "metadata": {},
   "outputs": [
    {
     "name": "stdout",
     "output_type": "stream",
     "text": [
      "+-------+--------+-------------+\n",
      "|   name|max_rent|city_template|\n",
      "+-------+--------+-------------+\n",
      "| Sports|     469|   a.. or A..|\n",
      "|Foreign|     275|        ..-..|\n",
      "+-------+--------+-------------+\n",
      "\n"
     ]
    }
   ],
   "source": [
    "#Task7. Вывести категорию фильмов, у которой самое большое кол-во часов суммарной аренды в городах (customer.address_id в этом city), и которые начинаются на букву “a”. \n",
    "#       Тоже самое сделать для городов в которых есть символ “-”.\n",
    "df_temp = df_film.join(df_film_category,'film_id').join(df_inventory,'film_id').join(df_rental,'inventory_id').join(df_customer,'customer_id').join(df_address,'address_id').join(df_city.where(col('city').like('a%') | col('city').like('A%') | col('city').like('%-%')),'city_id').join(df_category,'category_id') \n",
    "df_first = df_temp.where(col('city').like('a%') | col('city').like('A%')).groupby('name').agg(sum('rental_duration').alias('max_rent')).sort(desc('max_rent')).limit(1).withColumn('city_template',lit('a.. or A..'))\n",
    "df_second = df_temp.where(col('city').like('%-%')).groupby('name').agg(sum('rental_duration').alias('max_rent')).sort(desc('max_rent')).limit(1).withColumn('city_template',lit('..-..'))\n",
    "df_first.union(df_second).show()"
   ]
  }
 ],
 "metadata": {
  "kernelspec": {
   "display_name": "Python 3",
   "language": "python",
   "name": "python3"
  },
  "language_info": {
   "codemirror_mode": {
    "name": "ipython",
    "version": 3
   },
   "file_extension": ".py",
   "mimetype": "text/x-python",
   "name": "python",
   "nbconvert_exporter": "python",
   "pygments_lexer": "ipython3",
   "version": "3.9.7"
  }
 },
 "nbformat": 4,
 "nbformat_minor": 2
}
