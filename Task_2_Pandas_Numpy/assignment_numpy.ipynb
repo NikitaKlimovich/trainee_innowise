{
 "cells": [
  {
   "cell_type": "markdown",
   "id": "d3df79dd",
   "metadata": {},
   "source": [
    "## Упражнения по библиотеке Numpy"
   ]
  },
  {
   "cell_type": "code",
   "execution_count": 1,
   "id": "76b9c43b",
   "metadata": {},
   "outputs": [],
   "source": [
    "import numpy as np"
   ]
  },
  {
   "cell_type": "code",
   "execution_count": 204,
   "id": "216477f1",
   "metadata": {},
   "outputs": [],
   "source": [
    "arr = np.random.randint(0,10,10)"
   ]
  },
  {
   "cell_type": "markdown",
   "id": "03727b7c",
   "metadata": {},
   "source": [
    "**1.** Дан случайный массив, поменять знак у элементов, значения которых между 3 и 8"
   ]
  },
  {
   "cell_type": "code",
   "execution_count": 20,
   "id": "b89a7523",
   "metadata": {},
   "outputs": [
    {
     "data": {
      "text/plain": [
       "array([ 9,  0,  2, -5,  1, -4,  2,  0, -6,  0], dtype=int32)"
      ]
     },
     "execution_count": 20,
     "metadata": {},
     "output_type": "execute_result"
    }
   ],
   "source": [
    "to_replace = (arr >= 3) & (arr <= 8)\n",
    "arr[to_replace] = np.negative(arr[to_replace])\n",
    "arr"
   ]
  },
  {
   "cell_type": "markdown",
   "id": "5fa4abda",
   "metadata": {},
   "source": [
    "**2.** Заменить максимальный элемент случайного массива на 0"
   ]
  },
  {
   "cell_type": "code",
   "execution_count": 22,
   "id": "f2788a6e",
   "metadata": {},
   "outputs": [
    {
     "data": {
      "text/plain": [
       "array([ 0,  0,  2, -5,  1, -4,  2,  0, -6,  0], dtype=int32)"
      ]
     },
     "execution_count": 22,
     "metadata": {},
     "output_type": "execute_result"
    }
   ],
   "source": [
    "arr[arr==max(arr)] = 0\n",
    "arr"
   ]
  },
  {
   "cell_type": "markdown",
   "id": "3cac656b",
   "metadata": {},
   "source": [
    "**3.** Построить прямое произведение массивов (все комбинации с каждым элементом). На вход подается двумерный массив"
   ]
  },
  {
   "cell_type": "code",
   "execution_count": 206,
   "id": "3396b764",
   "metadata": {},
   "outputs": [],
   "source": [
    "arr_2dim = np.random.randint(0,10,(2,5))"
   ]
  },
  {
   "cell_type": "code",
   "execution_count": 47,
   "id": "0e210127",
   "metadata": {},
   "outputs": [
    {
     "data": {
      "text/plain": [
       "array([[1, 3],\n",
       "       [1, 1],\n",
       "       [1, 2],\n",
       "       [1, 0],\n",
       "       [1, 4],\n",
       "       [1, 3],\n",
       "       [1, 1],\n",
       "       [1, 2],\n",
       "       [1, 0],\n",
       "       [1, 4],\n",
       "       [3, 3],\n",
       "       [3, 1],\n",
       "       [3, 2],\n",
       "       [3, 0],\n",
       "       [3, 4],\n",
       "       [7, 3],\n",
       "       [7, 1],\n",
       "       [7, 2],\n",
       "       [7, 0],\n",
       "       [7, 4],\n",
       "       [9, 3],\n",
       "       [9, 1],\n",
       "       [9, 2],\n",
       "       [9, 0],\n",
       "       [9, 4]], dtype=int32)"
      ]
     },
     "execution_count": 47,
     "metadata": {},
     "output_type": "execute_result"
    }
   ],
   "source": [
    "np.array(np.meshgrid(arr_2dim[0],arr_2dim[1])).T.reshape(-1,2)\n"
   ]
  },
  {
   "cell_type": "markdown",
   "id": "674c9354",
   "metadata": {},
   "source": [
    "**4.** Даны 2 массива A (8x3) и B (2x2). Найти строки в A, которые содержат элементы из каждой строки в B, независимо от порядка элементов в B"
   ]
  },
  {
   "cell_type": "code",
   "execution_count": 61,
   "id": "cb664782",
   "metadata": {},
   "outputs": [],
   "source": [
    "A = np.random.randint(0,10,(8,3))\n",
    "B = np.random.randint(0,10,(2,2))"
   ]
  },
  {
   "cell_type": "code",
   "execution_count": 207,
   "id": "8e3221de",
   "metadata": {},
   "outputs": [
    {
     "data": {
      "text/plain": [
       "array([[7, 7, 2],\n",
       "       [2, 7, 4],\n",
       "       [5, 6, 1],\n",
       "       [9, 6, 1],\n",
       "       [4, 9, 6],\n",
       "       [2, 7, 7],\n",
       "       [7, 5, 9],\n",
       "       [1, 5, 0]], dtype=int32)"
      ]
     },
     "execution_count": 207,
     "metadata": {},
     "output_type": "execute_result"
    }
   ],
   "source": [
    "A"
   ]
  },
  {
   "cell_type": "code",
   "execution_count": 63,
   "id": "8b9d93b2",
   "metadata": {},
   "outputs": [
    {
     "data": {
      "text/plain": [
       "array([[9, 2],\n",
       "       [7, 4]], dtype=int32)"
      ]
     },
     "execution_count": 63,
     "metadata": {},
     "output_type": "execute_result"
    }
   ],
   "source": [
    "B"
   ]
  },
  {
   "cell_type": "code",
   "execution_count": 176,
   "id": "deadb3c6",
   "metadata": {},
   "outputs": [
    {
     "data": {
      "text/plain": [
       "array([[7, 7, 2],\n",
       "       [2, 7, 4],\n",
       "       [4, 9, 6],\n",
       "       [2, 7, 7],\n",
       "       [7, 5, 9]], dtype=int32)"
      ]
     },
     "execution_count": 176,
     "metadata": {},
     "output_type": "execute_result"
    }
   ],
   "source": [
    "A[np.bool(np.sum(np.isin(A,B[0]),axis=1) * np.sum(np.isin(A,B[1]),axis=1))]"
   ]
  },
  {
   "cell_type": "markdown",
   "id": "fa46533b",
   "metadata": {},
   "source": [
    "**5.** Дана 10x3 матрица, найти строки из неравных значений (например строка [2,2,3] остается, строка [3,3,3] удаляется)"
   ]
  },
  {
   "cell_type": "code",
   "execution_count": 78,
   "id": "fa545b23",
   "metadata": {},
   "outputs": [],
   "source": [
    "matrix = np.random.randint(1,3,(10,3))"
   ]
  },
  {
   "cell_type": "code",
   "execution_count": 79,
   "id": "db4e58dc",
   "metadata": {},
   "outputs": [
    {
     "data": {
      "text/plain": [
       "array([[2, 2, 2],\n",
       "       [1, 2, 1],\n",
       "       [2, 1, 1],\n",
       "       [2, 2, 2],\n",
       "       [2, 2, 2],\n",
       "       [2, 1, 2],\n",
       "       [1, 1, 1],\n",
       "       [2, 1, 1],\n",
       "       [2, 1, 2],\n",
       "       [1, 2, 1]], dtype=int32)"
      ]
     },
     "execution_count": 79,
     "metadata": {},
     "output_type": "execute_result"
    }
   ],
   "source": [
    "matrix"
   ]
  },
  {
   "cell_type": "code",
   "execution_count": 82,
   "id": "f39e8d3f",
   "metadata": {},
   "outputs": [
    {
     "data": {
      "text/plain": [
       "array([[1, 2, 1],\n",
       "       [2, 1, 1],\n",
       "       [2, 1, 2],\n",
       "       [2, 1, 1],\n",
       "       [2, 1, 2],\n",
       "       [1, 2, 1]], dtype=int32)"
      ]
     },
     "execution_count": 82,
     "metadata": {},
     "output_type": "execute_result"
    }
   ],
   "source": [
    "matrix[np.bool(matrix.max(axis=1)-matrix.min(axis=1))]"
   ]
  },
  {
   "cell_type": "markdown",
   "id": "28f0d116",
   "metadata": {},
   "source": [
    "**6.** Дан двумерный массив. Удалить те строки, которые повторяются"
   ]
  },
  {
   "cell_type": "code",
   "execution_count": 3,
   "id": "83d2c0b7",
   "metadata": {},
   "outputs": [
    {
     "data": {
      "text/plain": [
       "array([[2, 2, 0],\n",
       "       [0, 2, 0],\n",
       "       [0, 2, 1],\n",
       "       [2, 0, 0],\n",
       "       [0, 2, 1],\n",
       "       [2, 2, 0],\n",
       "       [2, 0, 1],\n",
       "       [0, 2, 2],\n",
       "       [2, 0, 2],\n",
       "       [1, 2, 2]], dtype=int32)"
      ]
     },
     "execution_count": 3,
     "metadata": {},
     "output_type": "execute_result"
    }
   ],
   "source": [
    "arr_2 = np.random.randint(0,3,(10,3))\n",
    "arr_2"
   ]
  },
  {
   "cell_type": "code",
   "execution_count": 9,
   "id": "efcd36b1",
   "metadata": {},
   "outputs": [
    {
     "data": {
      "text/plain": [
       "array([[0, 2, 0],\n",
       "       [0, 2, 1],\n",
       "       [0, 2, 2],\n",
       "       [1, 2, 2],\n",
       "       [2, 0, 0],\n",
       "       [2, 0, 1],\n",
       "       [2, 0, 2],\n",
       "       [2, 2, 0]], dtype=int32)"
      ]
     },
     "execution_count": 9,
     "metadata": {},
     "output_type": "execute_result"
    }
   ],
   "source": [
    "np.unique(arr_2,axis=0)"
   ]
  },
  {
   "cell_type": "markdown",
   "id": "6daa9e37",
   "metadata": {},
   "source": [
    "______\n",
    "______"
   ]
  },
  {
   "cell_type": "markdown",
   "id": "cfbfcaff",
   "metadata": {},
   "source": [
    "Для каждой из следующих задач (1-5) нужно привести 2 реализации – одна без использования numpy (cчитайте, что там, где на входе или выходе должны быть numpy array, будут просто списки), а вторая полностью векторизованная с использованием numpy (без использования питоновских циклов/map/list comprehension).\n",
    "\n",
    "\n",
    "__Замечание 1.__ Можно считать, что все указанные объекты непустые (к примеру, в __задаче 1__ на диагонали матрицы есть ненулевые элементы).\n",
    "\n",
    "__Замечание 2.__ Для большинства задач решение занимает не больше 1-2 строк."
   ]
  },
  {
   "cell_type": "markdown",
   "id": "673cac7f",
   "metadata": {},
   "source": [
    "___"
   ]
  },
  {
   "cell_type": "markdown",
   "id": "ca6f585e",
   "metadata": {},
   "source": [
    "* __Задача 1__: Подсчитать произведение ненулевых элементов на диагонали прямоугольной матрицы.  \n",
    " Например, для X = np.array([[1, 0, 1], [2, 0, 2], [3, 0, 3], [4, 4, 4]]) ответ 3."
   ]
  },
  {
   "cell_type": "code",
   "execution_count": 214,
   "id": "065862fc",
   "metadata": {},
   "outputs": [
    {
     "data": {
      "text/plain": [
       "14"
      ]
     },
     "execution_count": 214,
     "metadata": {},
     "output_type": "execute_result"
    }
   ],
   "source": [
    "k = 1\n",
    "for i,line in enumerate(arr_2dim):\n",
    "    k*=line[i]\n",
    "k"
   ]
  },
  {
   "cell_type": "code",
   "execution_count": 221,
   "id": "b0c9ac55",
   "metadata": {},
   "outputs": [
    {
     "data": {
      "text/plain": [
       "14"
      ]
     },
     "execution_count": 221,
     "metadata": {},
     "output_type": "execute_result"
    }
   ],
   "source": [
    "np.prod(arr_2dim.diagonal())"
   ]
  },
  {
   "cell_type": "markdown",
   "id": "9fc51d41",
   "metadata": {},
   "source": [
    "* __Задача 2__: Даны два вектора x и y. Проверить, задают ли они одно и то же мультимножество.  \n",
    "  Например, для x = np.array([1, 2, 2, 4]), y = np.array([4, 2, 1, 2]) ответ True."
   ]
  },
  {
   "cell_type": "code",
   "execution_count": 270,
   "id": "a809e02f",
   "metadata": {},
   "outputs": [],
   "source": [
    "v1=np.array([1, 2, 4])\n",
    "v2 = np.array([4, 2, 1, 2])"
   ]
  },
  {
   "cell_type": "code",
   "execution_count": 413,
   "id": "e0531303",
   "metadata": {},
   "outputs": [],
   "source": [
    "sorted(v1) == sorted(v2)"
   ]
  },
  {
   "cell_type": "code",
   "execution_count": 271,
   "id": "e668c37d",
   "metadata": {},
   "outputs": [
    {
     "data": {
      "text/plain": [
       "False"
      ]
     },
     "execution_count": 271,
     "metadata": {},
     "output_type": "execute_result"
    }
   ],
   "source": [
    "np.array_equal(np.sort(v1),np.sort(v2))"
   ]
  },
  {
   "cell_type": "markdown",
   "id": "b9c185c7",
   "metadata": {},
   "source": [
    "* __Задача 3__: Найти максимальный элемент в векторе x среди элементов, перед которыми стоит ноль. \n",
    " Например, для x = np.array([6, 2, 0, 3, 0, 0, 5, 7, 0]) ответ 5."
   ]
  },
  {
   "cell_type": "code",
   "execution_count": 304,
   "id": "3f5b1ead",
   "metadata": {},
   "outputs": [],
   "source": [
    "arr_3_np = np.array([6, 2, 0, 3, 0, 0, 5, 7, 0])"
   ]
  },
  {
   "cell_type": "code",
   "execution_count": 275,
   "id": "dcf4aee7",
   "metadata": {},
   "outputs": [],
   "source": [
    "arr_3 = [6, 2, 0, 3, 0, 0, 5, 7, 0]"
   ]
  },
  {
   "cell_type": "code",
   "execution_count": 276,
   "id": "b57df008",
   "metadata": {},
   "outputs": [
    {
     "data": {
      "text/plain": [
       "5"
      ]
     },
     "execution_count": 276,
     "metadata": {},
     "output_type": "execute_result"
    }
   ],
   "source": [
    "first_index = arr_3.index(0)+1\n",
    "max_val = arr[first_index]\n",
    "for i in range(first_index+1,len(arr_3)):\n",
    "    if arr_3[i-1] == 0 and arr_3[i]>max_val:\n",
    "        max_val = arr_3[i]\n",
    "max_val"
   ]
  },
  {
   "cell_type": "code",
   "execution_count": 305,
   "id": "8898e074",
   "metadata": {},
   "outputs": [
    {
     "data": {
      "text/plain": [
       "np.int64(5)"
      ]
     },
     "execution_count": 305,
     "metadata": {},
     "output_type": "execute_result"
    }
   ],
   "source": [
    "np.max(np.take(arr_3_np,np.subtract(np.where(arr_3_np==0),-1),mode='clip'))"
   ]
  },
  {
   "cell_type": "markdown",
   "id": "480be4ce",
   "metadata": {},
   "source": [
    "* __Задача 4__: Реализовать кодирование длин серий (Run-length encoding). Для некоторого вектора x необходимо вернуть кортеж из двух векторов одинаковой длины. Первый содержит числа, а второй - сколько раз их нужно повторить.  \n",
    " Например, для x = np.array([2, 2, 2, 3, 3, 3, 5]) ответ (np.array([2, 3, 5]), np.array([3, 3, 1]))."
   ]
  },
  {
   "cell_type": "code",
   "execution_count": 307,
   "id": "42d803c8",
   "metadata": {},
   "outputs": [],
   "source": [
    "arr_4 = [2, 2, 2, 3, 3, 3, 5]\n",
    "arr_4_np = np.array([2, 2, 2, 3, 3, 3, 5])"
   ]
  },
  {
   "cell_type": "code",
   "execution_count": 315,
   "id": "3c592124",
   "metadata": {},
   "outputs": [
    {
     "data": {
      "text/plain": [
       "([2, 3, 5], [3, 3, 1])"
      ]
     },
     "execution_count": 315,
     "metadata": {},
     "output_type": "execute_result"
    }
   ],
   "source": [
    "res_dict = dict()\n",
    "for each in arr_4:\n",
    "    if each in res_dict:\n",
    "        res_dict[each]+=1\n",
    "    else:\n",
    "        res_dict[each]=1 \n",
    "(list(res_dict.keys()),list(res_dict.values()))"
   ]
  },
  {
   "cell_type": "code",
   "execution_count": 316,
   "id": "f8de658e",
   "metadata": {},
   "outputs": [
    {
     "data": {
      "text/plain": [
       "(array([2, 3, 5]), array([3, 3, 1]))"
      ]
     },
     "execution_count": 316,
     "metadata": {},
     "output_type": "execute_result"
    }
   ],
   "source": [
    "np.unique(arr_4_np,return_counts=True)"
   ]
  },
  {
   "cell_type": "markdown",
   "id": "077532ec",
   "metadata": {},
   "source": [
    "* __Задача 5__: Даны две выборки объектов - X и Y. Вычислить матрицу евклидовых расстояний между объектами. Сравните с функцией scipy.spatial.distance.cdist по скорости работы."
   ]
  },
  {
   "cell_type": "code",
   "execution_count": 39,
   "id": "1e807797",
   "metadata": {},
   "outputs": [],
   "source": [
    "X = np.random.randint(0,10,(1,5))\n",
    "Y = np.random.randint(0,10,(1,5))\n",
    "x_list = X.tolist()[0]\n",
    "y_list = Y.tolist()[0]"
   ]
  },
  {
   "cell_type": "code",
   "execution_count": 42,
   "id": "869c0a7c",
   "metadata": {},
   "outputs": [
    {
     "data": {
      "text/plain": [
       "[[0, 6, 4, 3, 0],\n",
       " [1, 7, 5, 4, 1],\n",
       " [7, 1, 3, 4, 7],\n",
       " [7, 1, 3, 4, 7],\n",
       " [4, 2, 0, 1, 4]]"
      ]
     },
     "execution_count": 42,
     "metadata": {},
     "output_type": "execute_result"
    }
   ],
   "source": [
    "res = list()\n",
    "for i, y in enumerate(y_list):\n",
    "    res.append([])\n",
    "    for x in x_list:\n",
    "        res[i].append(abs(x-y))\n",
    "res"
   ]
  },
  {
   "cell_type": "code",
   "execution_count": 41,
   "id": "56300999",
   "metadata": {},
   "outputs": [
    {
     "data": {
      "text/plain": [
       "array([[0, 6, 4, 3, 0],\n",
       "       [1, 7, 5, 4, 1],\n",
       "       [7, 1, 3, 4, 7],\n",
       "       [7, 1, 3, 4, 7],\n",
       "       [4, 2, 0, 1, 4]], dtype=int32)"
      ]
     },
     "execution_count": 41,
     "metadata": {},
     "output_type": "execute_result"
    }
   ],
   "source": [
    "m, n = np.meshgrid(X, Y)\n",
    "abs(m-n)"
   ]
  },
  {
   "cell_type": "code",
   "execution_count": null,
   "id": "a312c64e",
   "metadata": {},
   "outputs": [],
   "source": [
    "import time\n",
    "import scipy"
   ]
  },
  {
   "cell_type": "code",
   "execution_count": 412,
   "id": "223b8a9b",
   "metadata": {},
   "outputs": [
    {
     "data": {
      "text/plain": [
       "1.8498773574829102"
      ]
     },
     "execution_count": 412,
     "metadata": {},
     "output_type": "execute_result"
    }
   ],
   "source": [
    "start_time = time.time()\n",
    "for _ in range(0,10000):\n",
    "    m, n = np.meshgrid(X, Y)\n",
    "    abs(m-n)\n",
    "time.time() - start_time"
   ]
  },
  {
   "cell_type": "code",
   "execution_count": 410,
   "id": "6368e06e",
   "metadata": {},
   "outputs": [
    {
     "data": {
      "text/plain": [
       "0.3015959263"
      ]
     },
     "execution_count": 410,
     "metadata": {},
     "output_type": "execute_result"
    }
   ],
   "source": [
    "start_time = time.time()\n",
    "for _ in range(0,10000):\n",
    "    scipy.spatial.distance.cdist(X,Y,'euclidean')\n",
    "round(time.time() - start_time, 10)"
   ]
  },
  {
   "cell_type": "markdown",
   "id": "973e8064",
   "metadata": {},
   "source": [
    "_______\n",
    "________"
   ]
  },
  {
   "cell_type": "markdown",
   "id": "abb0f3b0",
   "metadata": {},
   "source": [
    "При увеличении количества запусков программы скорость работы будет изменяться еще больше в пользу функции из библиотеки scipy"
   ]
  },
  {
   "cell_type": "markdown",
   "id": "1104acb7",
   "metadata": {},
   "source": [
    "* #### __Задача 6__: CrunchieMunchies __*__\n",
    "\n",
    "Вы работаете в отделе маркетинга пищевой компании MyCrunch, которая разрабатывает новый вид вкусных, полезных злаков под названием **CrunchieMunchies**.\n",
    "\n",
    "Вы хотите продемонстрировать потребителям, насколько полезны ваши хлопья по сравнению с другими ведущими брендами, поэтому вы собрали данные о питании нескольких разных конкурентов.\n",
    "\n",
    "Ваша задача - использовать вычисления Numpy для анализа этих данных и доказать, что ваши **СrunchieMunchies** - самый здоровый выбор для потребителей.\n"
   ]
  },
  {
   "cell_type": "code",
   "execution_count": 77,
   "id": "10a77f8d",
   "metadata": {},
   "outputs": [],
   "source": [
    "import numpy as np"
   ]
  },
  {
   "cell_type": "markdown",
   "id": "ab87cb03",
   "metadata": {},
   "source": [
    "1. Просмотрите файл cereal.csv. Этот файл содержит количества калорий для различных марок хлопьев. Загрузите данные из файла и сохраните их как calorie_stats."
   ]
  },
  {
   "cell_type": "code",
   "execution_count": 58,
   "id": "9681ebf2",
   "metadata": {},
   "outputs": [
    {
     "data": {
      "text/plain": [
       "array([ 70., 120.,  70.,  50., 110., 110., 110., 130.,  90.,  90., 120.,\n",
       "       110., 120., 110., 110., 110., 100., 110., 110., 110., 100., 110.,\n",
       "       100., 100., 110., 110., 100., 120., 120., 110., 100., 110., 100.,\n",
       "       110., 120., 120., 110., 110., 110., 140., 110., 100., 110., 100.,\n",
       "       150., 150., 160., 100., 120., 140.,  90., 130., 120., 100.,  50.,\n",
       "        50., 100., 100., 120., 100.,  90., 110., 110.,  80.,  90.,  90.,\n",
       "       110., 110.,  90., 110., 140., 100., 110., 110., 100., 100., 110.])"
      ]
     },
     "execution_count": 58,
     "metadata": {},
     "output_type": "execute_result"
    }
   ],
   "source": [
    "calorie_stats = np.loadtxt(\"./data/cereal.csv\", delimiter=\",\")\n",
    "calorie_stats"
   ]
  },
  {
   "cell_type": "markdown",
   "id": "139cfbd8",
   "metadata": {},
   "source": [
    "2. В одной порции CrunchieMunchies содержится 60 калорий. Насколько выше среднее количество калорий у ваших конкурентов?\n",
    "\n",
    "Сохраните ответ в переменной average_calories и распечатайте переменную в терминале"
   ]
  },
  {
   "cell_type": "code",
   "execution_count": 434,
   "id": "7036d240",
   "metadata": {},
   "outputs": [
    {
     "data": {
      "text/plain": [
       "np.float64(46.883116883116884)"
      ]
     },
     "execution_count": 434,
     "metadata": {},
     "output_type": "execute_result"
    }
   ],
   "source": [
    "np.average(calorie_stats)-60"
   ]
  },
  {
   "cell_type": "markdown",
   "id": "b2ddb4cd",
   "metadata": {},
   "source": [
    "3. Корректно ли среднее количество калорий отражает распределение набора данных? Давайте отсортируем данные и посмотрим.\n",
    "\n",
    "Отсортируйте данные и сохраните результат в переменной calorie_stats_sorted. Распечатайте отсортированную информацию"
   ]
  },
  {
   "cell_type": "code",
   "execution_count": 436,
   "id": "46eeb4ed",
   "metadata": {},
   "outputs": [
    {
     "data": {
      "text/plain": [
       "array([ 50.,  50.,  50.,  70.,  70.,  80.,  90.,  90.,  90.,  90.,  90.,\n",
       "        90.,  90., 100., 100., 100., 100., 100., 100., 100., 100., 100.,\n",
       "       100., 100., 100., 100., 100., 100., 100., 100., 110., 110., 110.,\n",
       "       110., 110., 110., 110., 110., 110., 110., 110., 110., 110., 110.,\n",
       "       110., 110., 110., 110., 110., 110., 110., 110., 110., 110., 110.,\n",
       "       110., 110., 110., 110., 120., 120., 120., 120., 120., 120., 120.,\n",
       "       120., 120., 120., 130., 130., 140., 140., 140., 150., 150., 160.])"
      ]
     },
     "execution_count": 436,
     "metadata": {},
     "output_type": "execute_result"
    }
   ],
   "source": [
    "calorie_stats_sorted = np.sort(calorie_stats)\n",
    "calorie_stats_sorted"
   ]
  },
  {
   "cell_type": "markdown",
   "id": "4dc74116",
   "metadata": {},
   "source": [
    "4. Похоже, что большинство значений выше среднего. Давайте посмотрим, является ли медиана наиболее корректным показателем набора данных.\n",
    "\n",
    "Вычислите медиану набора данных и сохраните свой ответ в median_calories. Выведите медиану, чтобы вы могли видеть, как она сравнивается со средним значением."
   ]
  },
  {
   "cell_type": "code",
   "execution_count": 437,
   "id": "b56627c3",
   "metadata": {},
   "outputs": [
    {
     "data": {
      "text/plain": [
       "np.float64(110.0)"
      ]
     },
     "execution_count": 437,
     "metadata": {},
     "output_type": "execute_result"
    }
   ],
   "source": [
    "median_calories = np.median(calorie_stats)\n",
    "median_calories"
   ]
  },
  {
   "cell_type": "markdown",
   "id": "a63ab72f",
   "metadata": {},
   "source": [
    "5. В то время как медиана показывает, что по крайней мере половина наших значений составляет более 100 калорий, было бы более впечатляюще показать, что значительная часть конкурентов имеет более высокое количество калорий, чем CrunchieMunchies.\n",
    "\n",
    "Рассчитайте различные процентили и распечатайте их, пока не найдете наименьший процентиль, превышающий 60 калорий. Сохраните это значение в переменной nth_percentile."
   ]
  },
  {
   "cell_type": "code",
   "execution_count": 71,
   "id": "fe80ce03",
   "metadata": {},
   "outputs": [
    {
     "name": "stdout",
     "output_type": "stream",
     "text": [
      "2 50.0\n",
      "2.1 50.0\n",
      "2.2 50.0\n",
      "2.3 50.0\n",
      "2.4 50.0\n",
      "2.5 50.0\n",
      "2.6 50.0\n",
      "2.7 51.04\n",
      "2.8 52.56\n",
      "2.9 54.08\n",
      "3.0 55.6\n",
      "3.1 57.12\n",
      "3.2 58.64\n",
      "3.3 60.16\n"
     ]
    },
    {
     "data": {
      "text/plain": [
       "3.3"
      ]
     },
     "execution_count": 71,
     "metadata": {},
     "output_type": "execute_result"
    }
   ],
   "source": [
    "proc = 2\n",
    "while True:\n",
    "    calories = np.percentile(calorie_stats,proc)\n",
    "    print(round(proc,2),round(calories,2))\n",
    "    if calories > 60:\n",
    "        nth_percentile = proc\n",
    "        break\n",
    "    proc+=0.1\n",
    "round(nth_percentile,2)"
   ]
  },
  {
   "cell_type": "markdown",
   "id": "a2a3c5aa",
   "metadata": {},
   "source": [
    "6. Хотя процентиль показывает нам, что у большинства конкурентов количество калорий намного выше, это неудобная концепция для использования в маркетинговых материалах.\n",
    "\n",
    "Вместо этого давайте подсчитаем процент хлопьев, в которых содержится более 60 калорий на порцию. Сохраните свой ответ в переменной more_calories и распечатайте его"
   ]
  },
  {
   "cell_type": "code",
   "execution_count": 73,
   "id": "ade0f6ea",
   "metadata": {},
   "outputs": [
    {
     "data": {
      "text/plain": [
       "96.1038961038961"
      ]
     },
     "execution_count": 73,
     "metadata": {},
     "output_type": "execute_result"
    }
   ],
   "source": [
    "more_calories = calorie_stats[calorie_stats>60].size / calorie_stats.size *100\n",
    "more_calories"
   ]
  },
  {
   "cell_type": "markdown",
   "id": "1735d65b",
   "metadata": {},
   "source": [
    "7. Это действительно высокий процент. Это будет очень полезно, когда мы будем продвигать CrunchieMunchies. Но один вопрос заключается в том, насколько велики различия в наборе данных? Можем ли мы сделать обобщение, что в большинстве злаков содержится около 100 калорий или разброс еще больше?\n",
    "\n",
    "Рассчитайте величину отклонения, найдя стандартное отклонение, Сохраните свой ответ в calorie_std и распечатайте на терминале. Как мы можем включить эту ценность в наш анализ?"
   ]
  },
  {
   "cell_type": "code",
   "execution_count": 456,
   "id": "85c8df1f",
   "metadata": {},
   "outputs": [
    {
     "data": {
      "text/plain": [
       "np.float64(19.35718533390827)"
      ]
     },
     "execution_count": 456,
     "metadata": {},
     "output_type": "execute_result"
    }
   ],
   "source": [
    "calorie_std = np.std(calorie_stats)\n",
    "calorie_std"
   ]
  },
  {
   "cell_type": "markdown",
   "id": "037455c5",
   "metadata": {},
   "source": [
    "8. Напишите короткий абзац, в котором кратко изложите свои выводы и то, как, по вашему мнению, эти данные могут быть использованы в интересах Mycrunch при маркетинге CrunchieMunchies."
   ]
  },
  {
   "cell_type": "markdown",
   "id": "459f6506",
   "metadata": {},
   "source": [
    " В результате можно сделать вывод, что компания CrunchieMunchies выпускает довольно качественную продукцию. Среднее значение калорий в продукции меньше, чем у конкурентов на 46 калорий, при этом доля хлопьев, в которых количество калорий больше, чем у нашей продукции, составляет 96% среди конкурентов. Так как стандартное отклонение равно 19, можно сделать вывод, что значения калорий у конкурентов в основном варьируются в диапазоне от 87 до 125 калорий. Это можно использовать при продвижении компании на мировом рынке."
   ]
  }
 ],
 "metadata": {
  "kernelspec": {
   "display_name": "Python 3 (ipykernel)",
   "language": "python",
   "name": "python3"
  },
  "language_info": {
   "codemirror_mode": {
    "name": "ipython",
    "version": 3
   },
   "file_extension": ".py",
   "mimetype": "text/x-python",
   "name": "python",
   "nbconvert_exporter": "python",
   "pygments_lexer": "ipython3",
   "version": "3.9.7"
  }
 },
 "nbformat": 4,
 "nbformat_minor": 5
}
